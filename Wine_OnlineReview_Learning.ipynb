{
 "cells": [
  {
   "cell_type": "markdown",
   "metadata": {},
   "source": [
    "### This notebook is to build an algorithm for recommending similar wines based on online review and inherent wine knowledge"
   ]
  },
  {
   "cell_type": "code",
   "execution_count": 1,
   "metadata": {},
   "outputs": [],
   "source": [
    "import pandas as pd\n",
    "import numpy as np\n",
    "import string\n",
    "from collections import Counter\n",
    "import scipy as sp\n",
    "from pandas import ExcelWriter\n",
    "from pandas import ExcelFile\n",
    "import wikipedia as wk\n",
    "import re\n",
    "import random"
   ]
  },
  {
   "cell_type": "code",
   "execution_count": 2,
   "metadata": {},
   "outputs": [
    {
     "name": "stdout",
     "output_type": "stream",
     "text": [
      "[nltk_data] Downloading package stopwords to\n",
      "[nltk_data]     C:\\Users\\Zijun\\AppData\\Roaming\\nltk_data...\n",
      "[nltk_data]   Package stopwords is already up-to-date!\n",
      "[nltk_data] Downloading package punkt to\n",
      "[nltk_data]     C:\\Users\\Zijun\\AppData\\Roaming\\nltk_data...\n",
      "[nltk_data]   Package punkt is already up-to-date!\n"
     ]
    },
    {
     "data": {
      "text/plain": [
       "True"
      ]
     },
     "execution_count": 2,
     "metadata": {},
     "output_type": "execute_result"
    }
   ],
   "source": [
    "#NLP word learning packages\n",
    "from glove import Corpus, Glove\n",
    "from nltk.corpus import stopwords \n",
    "from nltk.tokenize import word_tokenize\n",
    "import nltk\n",
    "nltk.download('stopwords')\n",
    "nltk.download('punkt')"
   ]
  },
  {
   "cell_type": "code",
   "execution_count": 3,
   "metadata": {},
   "outputs": [],
   "source": [
    "import pickle\n",
    "def save_obj(obj, name ):\n",
    "    with open('./'+ name + '.pkl', 'wb') as f:\n",
    "        pickle.dump(obj, f, pickle.HIGHEST_PROTOCOL)\n",
    "\n",
    "def load_obj(name ):\n",
    "    with open('./' + name + '.pkl', 'rb') as f:\n",
    "        return pickle.load(f)"
   ]
  },
  {
   "cell_type": "code",
   "execution_count": 4,
   "metadata": {},
   "outputs": [],
   "source": [
    "#load the models\n",
    "#information from the wine folly nots with \"Name,Places,type,traits(body,sweetness, etc),grapes,flavors + wiki on all the flavors\"\n",
    "glove = load_obj(\"pkl_data/glove_note_wiki\")\n",
    "corpus = load_obj(\"pkl_data/corpus_note_wiki\")"
   ]
  },
  {
   "cell_type": "code",
   "execution_count": 4,
   "metadata": {},
   "outputs": [],
   "source": [
    "path = \"./wine-reviews\"\n",
    "filename = \"winemag-data-130k-v2.csv\"\n",
    "df= pd.read_csv(path+\"/\"+filename)"
   ]
  },
  {
   "cell_type": "code",
   "execution_count": 6,
   "metadata": {},
   "outputs": [
    {
     "data": {
      "text/html": [
       "<div>\n",
       "<style scoped>\n",
       "    .dataframe tbody tr th:only-of-type {\n",
       "        vertical-align: middle;\n",
       "    }\n",
       "\n",
       "    .dataframe tbody tr th {\n",
       "        vertical-align: top;\n",
       "    }\n",
       "\n",
       "    .dataframe thead th {\n",
       "        text-align: right;\n",
       "    }\n",
       "</style>\n",
       "<table border=\"1\" class=\"dataframe\">\n",
       "  <thead>\n",
       "    <tr style=\"text-align: right;\">\n",
       "      <th></th>\n",
       "      <th>Unnamed: 0</th>\n",
       "      <th>country</th>\n",
       "      <th>description</th>\n",
       "      <th>designation</th>\n",
       "      <th>points</th>\n",
       "      <th>price</th>\n",
       "      <th>province</th>\n",
       "      <th>region_1</th>\n",
       "      <th>region_2</th>\n",
       "      <th>taster_name</th>\n",
       "      <th>taster_twitter_handle</th>\n",
       "      <th>title</th>\n",
       "      <th>variety</th>\n",
       "      <th>winery</th>\n",
       "    </tr>\n",
       "  </thead>\n",
       "  <tbody>\n",
       "    <tr>\n",
       "      <th>0</th>\n",
       "      <td>0</td>\n",
       "      <td>Italy</td>\n",
       "      <td>Aromas include tropical fruit, broom, brimston...</td>\n",
       "      <td>Vulkà Bianco</td>\n",
       "      <td>87</td>\n",
       "      <td>NaN</td>\n",
       "      <td>Sicily &amp; Sardinia</td>\n",
       "      <td>Etna</td>\n",
       "      <td>NaN</td>\n",
       "      <td>Kerin O’Keefe</td>\n",
       "      <td>@kerinokeefe</td>\n",
       "      <td>Nicosia 2013 Vulkà Bianco  (Etna)</td>\n",
       "      <td>White Blend</td>\n",
       "      <td>Nicosia</td>\n",
       "    </tr>\n",
       "    <tr>\n",
       "      <th>1</th>\n",
       "      <td>1</td>\n",
       "      <td>Portugal</td>\n",
       "      <td>This is ripe and fruity, a wine that is smooth...</td>\n",
       "      <td>Avidagos</td>\n",
       "      <td>87</td>\n",
       "      <td>15.0</td>\n",
       "      <td>Douro</td>\n",
       "      <td>NaN</td>\n",
       "      <td>NaN</td>\n",
       "      <td>Roger Voss</td>\n",
       "      <td>@vossroger</td>\n",
       "      <td>Quinta dos Avidagos 2011 Avidagos Red (Douro)</td>\n",
       "      <td>Portuguese Red</td>\n",
       "      <td>Quinta dos Avidagos</td>\n",
       "    </tr>\n",
       "    <tr>\n",
       "      <th>2</th>\n",
       "      <td>2</td>\n",
       "      <td>US</td>\n",
       "      <td>Tart and snappy, the flavors of lime flesh and...</td>\n",
       "      <td>NaN</td>\n",
       "      <td>87</td>\n",
       "      <td>14.0</td>\n",
       "      <td>Oregon</td>\n",
       "      <td>Willamette Valley</td>\n",
       "      <td>Willamette Valley</td>\n",
       "      <td>Paul Gregutt</td>\n",
       "      <td>@paulgwine</td>\n",
       "      <td>Rainstorm 2013 Pinot Gris (Willamette Valley)</td>\n",
       "      <td>Pinot Gris</td>\n",
       "      <td>Rainstorm</td>\n",
       "    </tr>\n",
       "    <tr>\n",
       "      <th>3</th>\n",
       "      <td>3</td>\n",
       "      <td>US</td>\n",
       "      <td>Pineapple rind, lemon pith and orange blossom ...</td>\n",
       "      <td>Reserve Late Harvest</td>\n",
       "      <td>87</td>\n",
       "      <td>13.0</td>\n",
       "      <td>Michigan</td>\n",
       "      <td>Lake Michigan Shore</td>\n",
       "      <td>NaN</td>\n",
       "      <td>Alexander Peartree</td>\n",
       "      <td>NaN</td>\n",
       "      <td>St. Julian 2013 Reserve Late Harvest Riesling ...</td>\n",
       "      <td>Riesling</td>\n",
       "      <td>St. Julian</td>\n",
       "    </tr>\n",
       "    <tr>\n",
       "      <th>4</th>\n",
       "      <td>4</td>\n",
       "      <td>US</td>\n",
       "      <td>Much like the regular bottling from 2012, this...</td>\n",
       "      <td>Vintner's Reserve Wild Child Block</td>\n",
       "      <td>87</td>\n",
       "      <td>65.0</td>\n",
       "      <td>Oregon</td>\n",
       "      <td>Willamette Valley</td>\n",
       "      <td>Willamette Valley</td>\n",
       "      <td>Paul Gregutt</td>\n",
       "      <td>@paulgwine</td>\n",
       "      <td>Sweet Cheeks 2012 Vintner's Reserve Wild Child...</td>\n",
       "      <td>Pinot Noir</td>\n",
       "      <td>Sweet Cheeks</td>\n",
       "    </tr>\n",
       "  </tbody>\n",
       "</table>\n",
       "</div>"
      ],
      "text/plain": [
       "   Unnamed: 0   country                                        description  \\\n",
       "0           0     Italy  Aromas include tropical fruit, broom, brimston...   \n",
       "1           1  Portugal  This is ripe and fruity, a wine that is smooth...   \n",
       "2           2        US  Tart and snappy, the flavors of lime flesh and...   \n",
       "3           3        US  Pineapple rind, lemon pith and orange blossom ...   \n",
       "4           4        US  Much like the regular bottling from 2012, this...   \n",
       "\n",
       "                          designation  points  price           province  \\\n",
       "0                        Vulkà Bianco      87    NaN  Sicily & Sardinia   \n",
       "1                            Avidagos      87   15.0              Douro   \n",
       "2                                 NaN      87   14.0             Oregon   \n",
       "3                Reserve Late Harvest      87   13.0           Michigan   \n",
       "4  Vintner's Reserve Wild Child Block      87   65.0             Oregon   \n",
       "\n",
       "              region_1           region_2         taster_name  \\\n",
       "0                 Etna                NaN       Kerin O’Keefe   \n",
       "1                  NaN                NaN          Roger Voss   \n",
       "2    Willamette Valley  Willamette Valley        Paul Gregutt   \n",
       "3  Lake Michigan Shore                NaN  Alexander Peartree   \n",
       "4    Willamette Valley  Willamette Valley        Paul Gregutt   \n",
       "\n",
       "  taster_twitter_handle                                              title  \\\n",
       "0          @kerinokeefe                  Nicosia 2013 Vulkà Bianco  (Etna)   \n",
       "1            @vossroger      Quinta dos Avidagos 2011 Avidagos Red (Douro)   \n",
       "2           @paulgwine       Rainstorm 2013 Pinot Gris (Willamette Valley)   \n",
       "3                   NaN  St. Julian 2013 Reserve Late Harvest Riesling ...   \n",
       "4           @paulgwine   Sweet Cheeks 2012 Vintner's Reserve Wild Child...   \n",
       "\n",
       "          variety               winery  \n",
       "0     White Blend              Nicosia  \n",
       "1  Portuguese Red  Quinta dos Avidagos  \n",
       "2      Pinot Gris            Rainstorm  \n",
       "3        Riesling           St. Julian  \n",
       "4      Pinot Noir         Sweet Cheeks  "
      ]
     },
     "execution_count": 6,
     "metadata": {},
     "output_type": "execute_result"
    }
   ],
   "source": [
    "df.head(5)"
   ]
  },
  {
   "cell_type": "code",
   "execution_count": 7,
   "metadata": {},
   "outputs": [],
   "source": [
    "df_new = df[['title','variety','country','description']]"
   ]
  },
  {
   "cell_type": "code",
   "execution_count": 8,
   "metadata": {},
   "outputs": [
    {
     "data": {
      "text/plain": [
       "129971"
      ]
     },
     "execution_count": 8,
     "metadata": {},
     "output_type": "execute_result"
    }
   ],
   "source": [
    "len(df_new)"
   ]
  },
  {
   "cell_type": "code",
   "execution_count": 9,
   "metadata": {},
   "outputs": [],
   "source": [
    "#remove duplicates\n",
    "df_new = df_new.drop_duplicates()"
   ]
  },
  {
   "cell_type": "code",
   "execution_count": 10,
   "metadata": {},
   "outputs": [
    {
     "data": {
      "text/plain": [
       "119988"
      ]
     },
     "execution_count": 10,
     "metadata": {},
     "output_type": "execute_result"
    }
   ],
   "source": [
    "len(df_new)"
   ]
  },
  {
   "cell_type": "code",
   "execution_count": 11,
   "metadata": {},
   "outputs": [],
   "source": [
    "df_new[\"variety\"]=df_new[\"variety\"].str.replace(\" \",\"_\")"
   ]
  },
  {
   "cell_type": "code",
   "execution_count": 12,
   "metadata": {},
   "outputs": [],
   "source": [
    "df_new[\"title\"] = df_new[\"title\"].str.replace(\"(\",\"\")\n",
    "df_new[\"title\"] = df_new[\"title\"].str.replace(\")\",\"\")\n",
    "df_new[\"description\"] = df_new[\"description\"].str.replace(\",\",\" \")"
   ]
  },
  {
   "cell_type": "code",
   "execution_count": 13,
   "metadata": {},
   "outputs": [],
   "source": [
    "col_names = df_new.columns"
   ]
  },
  {
   "cell_type": "code",
   "execution_count": 14,
   "metadata": {},
   "outputs": [],
   "source": [
    "#make sure every cell is string\n",
    "df_new[\"title\"] = df_new[\"title\"].astype(str)\n",
    "df_new[\"description\"] = df_new[\"description\"].astype(str)\n",
    "df_new[\"variety\"] = df_new[\"variety\"].astype(str)\n",
    "df_new[\"country\"] = df_new[\"country\"].astype(str)"
   ]
  },
  {
   "cell_type": "code",
   "execution_count": 15,
   "metadata": {},
   "outputs": [
    {
     "data": {
      "text/html": [
       "<div>\n",
       "<style scoped>\n",
       "    .dataframe tbody tr th:only-of-type {\n",
       "        vertical-align: middle;\n",
       "    }\n",
       "\n",
       "    .dataframe tbody tr th {\n",
       "        vertical-align: top;\n",
       "    }\n",
       "\n",
       "    .dataframe thead th {\n",
       "        text-align: right;\n",
       "    }\n",
       "</style>\n",
       "<table border=\"1\" class=\"dataframe\">\n",
       "  <thead>\n",
       "    <tr style=\"text-align: right;\">\n",
       "      <th></th>\n",
       "      <th>title</th>\n",
       "      <th>variety</th>\n",
       "      <th>country</th>\n",
       "      <th>description</th>\n",
       "      <th>lines</th>\n",
       "    </tr>\n",
       "  </thead>\n",
       "  <tbody>\n",
       "    <tr>\n",
       "      <th>0</th>\n",
       "      <td>Nicosia 2013 Vulkà Bianco  Etna</td>\n",
       "      <td>White_Blend</td>\n",
       "      <td>Italy</td>\n",
       "      <td>Aromas include tropical fruit  broom  brimston...</td>\n",
       "      <td>0</td>\n",
       "    </tr>\n",
       "    <tr>\n",
       "      <th>1</th>\n",
       "      <td>Quinta dos Avidagos 2011 Avidagos Red Douro</td>\n",
       "      <td>Portuguese_Red</td>\n",
       "      <td>Portugal</td>\n",
       "      <td>This is ripe and fruity  a wine that is smooth...</td>\n",
       "      <td>0</td>\n",
       "    </tr>\n",
       "    <tr>\n",
       "      <th>2</th>\n",
       "      <td>Rainstorm 2013 Pinot Gris Willamette Valley</td>\n",
       "      <td>Pinot_Gris</td>\n",
       "      <td>US</td>\n",
       "      <td>Tart and snappy  the flavors of lime flesh and...</td>\n",
       "      <td>0</td>\n",
       "    </tr>\n",
       "    <tr>\n",
       "      <th>3</th>\n",
       "      <td>St. Julian 2013 Reserve Late Harvest Riesling ...</td>\n",
       "      <td>Riesling</td>\n",
       "      <td>US</td>\n",
       "      <td>Pineapple rind  lemon pith and orange blossom ...</td>\n",
       "      <td>0</td>\n",
       "    </tr>\n",
       "    <tr>\n",
       "      <th>4</th>\n",
       "      <td>Sweet Cheeks 2012 Vintner's Reserve Wild Child...</td>\n",
       "      <td>Pinot_Noir</td>\n",
       "      <td>US</td>\n",
       "      <td>Much like the regular bottling from 2012  this...</td>\n",
       "      <td>0</td>\n",
       "    </tr>\n",
       "  </tbody>\n",
       "</table>\n",
       "</div>"
      ],
      "text/plain": [
       "                                               title         variety  \\\n",
       "0                    Nicosia 2013 Vulkà Bianco  Etna     White_Blend   \n",
       "1        Quinta dos Avidagos 2011 Avidagos Red Douro  Portuguese_Red   \n",
       "2        Rainstorm 2013 Pinot Gris Willamette Valley      Pinot_Gris   \n",
       "3  St. Julian 2013 Reserve Late Harvest Riesling ...        Riesling   \n",
       "4  Sweet Cheeks 2012 Vintner's Reserve Wild Child...      Pinot_Noir   \n",
       "\n",
       "    country                                        description  lines  \n",
       "0     Italy  Aromas include tropical fruit  broom  brimston...      0  \n",
       "1  Portugal  This is ripe and fruity  a wine that is smooth...      0  \n",
       "2        US  Tart and snappy  the flavors of lime flesh and...      0  \n",
       "3        US  Pineapple rind  lemon pith and orange blossom ...      0  \n",
       "4        US  Much like the regular bottling from 2012  this...      0  "
      ]
     },
     "execution_count": 15,
     "metadata": {},
     "output_type": "execute_result"
    }
   ],
   "source": [
    "df_new[\"lines\"] = 0\n",
    "df_new.head(5)"
   ]
  },
  {
   "cell_type": "code",
   "execution_count": 16,
   "metadata": {},
   "outputs": [],
   "source": [
    "#this cell takes some time\n",
    "df_new[\"lines\"] = 0\n",
    "for index,row in df_new.iterrows():\n",
    "    df_new.loc[index,\"lines\"] = \",\".join(row[col_names]).lower()"
   ]
  },
  {
   "cell_type": "code",
   "execution_count": 17,
   "metadata": {},
   "outputs": [],
   "source": [
    "#clean the punctuations\n",
    "df_new[\"lines\"] = df_new[\"lines\"].str.replace(\",\",\" \")\n",
    "df_new[\"lines\"] = df_new[\"lines\"].str.replace(\".\",\"\")\n",
    "df_new[\"lines\"] = df_new[\"lines\"].str.replace(\"'\",\"\")"
   ]
  },
  {
   "cell_type": "code",
   "execution_count": 19,
   "metadata": {},
   "outputs": [
    {
     "data": {
      "text/plain": [
       "119988"
      ]
     },
     "execution_count": 19,
     "metadata": {},
     "output_type": "execute_result"
    }
   ],
   "source": [
    "len(df_new[\"lines\"])"
   ]
  },
  {
   "cell_type": "code",
   "execution_count": 20,
   "metadata": {},
   "outputs": [],
   "source": [
    "save_obj(df_new,\"pkl_data/df_online_review\")"
   ]
  },
  {
   "cell_type": "code",
   "execution_count": 16,
   "metadata": {},
   "outputs": [],
   "source": [
    "df_new = load_obj(\"pkl_data/df_online_review\")"
   ]
  },
  {
   "cell_type": "code",
   "execution_count": 21,
   "metadata": {},
   "outputs": [],
   "source": [
    "#tokenize\n",
    "lines = [str(x) if isinstance(x,float) else word_tokenize(x) for x in df_new[\"lines\"]]\n",
    "stop_words = set(stopwords.words('english')) "
   ]
  },
  {
   "cell_type": "code",
   "execution_count": 22,
   "metadata": {},
   "outputs": [],
   "source": [
    "#get rid of english stopwords\n",
    "online_lines = []\n",
    "for l in lines:\n",
    "    temp = 0\n",
    "    if l == 'nan':\n",
    "        temp = ['nan']\n",
    "    else:\n",
    "        temp = [w for w in l if (w not in stop_words)]                  \n",
    "    online_lines.append(temp)"
   ]
  },
  {
   "cell_type": "code",
   "execution_count": 23,
   "metadata": {},
   "outputs": [],
   "source": [
    "#save\n",
    "save_obj(online_lines,\"pkl_data/online_lines_notes\")"
   ]
  },
  {
   "cell_type": "code",
   "execution_count": 17,
   "metadata": {},
   "outputs": [],
   "source": [
    "online_lines = load_obj(\"pkl_data/online_lines_notes\")"
   ]
  },
  {
   "cell_type": "code",
   "execution_count": 7,
   "metadata": {},
   "outputs": [
    {
     "data": {
      "text/plain": [
       "119988"
      ]
     },
     "execution_count": 7,
     "metadata": {},
     "output_type": "execute_result"
    }
   ],
   "source": [
    "len(online_lines)"
   ]
  },
  {
   "cell_type": "code",
   "execution_count": 8,
   "metadata": {},
   "outputs": [
    {
     "data": {
      "text/plain": [
       "[('wine', 73222),\n",
       " ('flavors', 57955),\n",
       " ('us', 50579),\n",
       " ('fruit', 41578),\n",
       " ('aromas', 36243),\n",
       " ('palate', 34726),\n",
       " ('finish', 32124),\n",
       " ('acidity', 32101),\n",
       " ('red', 31215),\n",
       " ('valley', 29443)]"
      ]
     },
     "execution_count": 8,
     "metadata": {},
     "output_type": "execute_result"
    }
   ],
   "source": [
    "#check most common words\n",
    "flatten_lines =  [item for sublist in online_lines for item in sublist]\n",
    "word_counter = Counter(flatten_lines)\n",
    "word_counter.most_common(10)"
   ]
  },
  {
   "cell_type": "code",
   "execution_count": null,
   "metadata": {},
   "outputs": [],
   "source": [
    "#add the words to the original model which only included wine-folly and details on flavors from wikipedia\n",
    "corpus.fit(online_lines, window=10)\n",
    "#word embedding of 50\n",
    "glove = Glove(no_components=50, learning_rate=0.01)\n",
    "glove.fit(corpus.matrix, epochs=200, no_threads=4, verbose=True)"
   ]
  },
  {
   "cell_type": "code",
   "execution_count": 28,
   "metadata": {},
   "outputs": [],
   "source": [
    "glove.add_dictionary(corpus.dictionary)\n",
    "glove.save('glove.model')\n",
    "#save the glove model\n",
    "save_obj(glove,\"pkl_data/glove_online\")\n",
    "save_obj(corpus,\"pkl_data/corpus_online\")"
   ]
  },
  {
   "cell_type": "code",
   "execution_count": 18,
   "metadata": {},
   "outputs": [],
   "source": [
    "#load\n",
    "glove = load_obj(\"pkl_data/glove_online\")\n",
    "corpus = load_obj(\"pkl_data/corpus_online\")"
   ]
  },
  {
   "cell_type": "code",
   "execution_count": 19,
   "metadata": {},
   "outputs": [],
   "source": [
    "#calculate the vectors\n",
    "sentence_vectors = []\n",
    "real_vectors = []\n",
    "embed_n = 50\n",
    "for each_line in online_lines:\n",
    "    temp = 0\n",
    "    sum_temp = 0\n",
    "    if (each_line == 'nan') or (len(each_line) == 0):\n",
    "        #the vector is 0 if the name is \"nan\"\n",
    "        temp = [0]*embed_n\n",
    "    else:\n",
    "        #2 vectors are being generated as 2 useful inputs later in the analysis\n",
    "        #1: mean of the word vectors -> sentence vector\n",
    "        #2: the word vectors themselves\n",
    "        temp = np.mean([glove.word_vectors[glove.dictionary[w]] for w in each_line],axis=0)    \n",
    "        temp_realv = [glove.word_vectors[glove.dictionary[w]] for w in each_line]\n",
    "    sentence_vectors.append(temp) \n",
    "    real_vectors.append(temp_realv)"
   ]
  },
  {
   "cell_type": "code",
   "execution_count": 67,
   "metadata": {},
   "outputs": [],
   "source": [
    "#pick one of the wines\n",
    "target_index = random.randint(1,len(online_lines)+1)\n",
    "target = sentence_vectors[target_index]\n",
    "Euc_distance= []\n",
    "Cos_distance = []\n",
    "temp = 0\n",
    "\n",
    "for x in sentence_vectors:\n",
    "    temp = np.linalg.norm(target - np.array(x))\n",
    "    Euc_distance.append(temp)\n",
    "    \n",
    "for x in sentence_vectors:\n",
    "    temp = sp.spatial.distance.cosine(target,np.array(x))\n",
    "    Cos_distance.append(temp)"
   ]
  },
  {
   "cell_type": "code",
   "execution_count": 68,
   "metadata": {},
   "outputs": [],
   "source": [
    "Euc_distance = np.array(Euc_distance)\n",
    "Cos_distance= np.array(Cos_distance)"
   ]
  },
  {
   "cell_type": "code",
   "execution_count": 69,
   "metadata": {},
   "outputs": [
    {
     "name": "stdout",
     "output_type": "stream",
     "text": [
      "34631\n"
     ]
    }
   ],
   "source": [
    "#the closest neighbor\n",
    "index_Euc = Euc_distance.argsort()[1]\n",
    "print(index_Euc)"
   ]
  },
  {
   "cell_type": "code",
   "execution_count": 70,
   "metadata": {},
   "outputs": [
    {
     "name": "stdout",
     "output_type": "stream",
     "text": [
      "53956\n"
     ]
    }
   ],
   "source": [
    "#the closest neighbor\n",
    "index_Cos = Cos_distance.argsort()[1]\n",
    "print(index_Cos)"
   ]
  },
  {
   "cell_type": "code",
   "execution_count": 71,
   "metadata": {},
   "outputs": [
    {
     "data": {
      "text/plain": [
       "title          Elyse 2012 Morisoli Vineyard Zinfandel Rutherford\n",
       "variety                                                Zinfandel\n",
       "country                                                       US\n",
       "description    Thick in cherry-vanilla  big oak and tannin  t...\n",
       "lines          elyse 2012 morisoli vineyard zinfandel rutherf...\n",
       "Name: 31603, dtype: object"
      ]
     },
     "execution_count": 71,
     "metadata": {},
     "output_type": "execute_result"
    }
   ],
   "source": [
    "df_new.iloc[target_index]"
   ]
  },
  {
   "cell_type": "code",
   "execution_count": 72,
   "metadata": {},
   "outputs": [],
   "source": [
    "#get the index to see the details on description\n",
    "original_target_index = df_new.index.values[target_index]"
   ]
  },
  {
   "cell_type": "code",
   "execution_count": 73,
   "metadata": {},
   "outputs": [
    {
     "data": {
      "text/plain": [
       "Unnamed: 0                                                           31603\n",
       "country                                                                 US\n",
       "description              Thick in cherry-vanilla, big oak and tannin, t...\n",
       "designation                                              Morisoli Vineyard\n",
       "points                                                                  90\n",
       "price                                                                   37\n",
       "province                                                        California\n",
       "region_1                                                        Rutherford\n",
       "region_2                                                              Napa\n",
       "taster_name                                                 Virginie Boone\n",
       "taster_twitter_handle                                              @vboone\n",
       "title                    Elyse 2012 Morisoli Vineyard Zinfandel (Ruther...\n",
       "variety                                                          Zinfandel\n",
       "winery                                                               Elyse\n",
       "Name: 31603, dtype: object"
      ]
     },
     "execution_count": 73,
     "metadata": {},
     "output_type": "execute_result"
    }
   ],
   "source": [
    "df.loc[original_target_index]"
   ]
  },
  {
   "cell_type": "code",
   "execution_count": 74,
   "metadata": {},
   "outputs": [
    {
     "data": {
      "text/plain": [
       "'Elyse 2012 Morisoli Vineyard Zinfandel (Rutherford)'"
      ]
     },
     "execution_count": 74,
     "metadata": {},
     "output_type": "execute_result"
    }
   ],
   "source": [
    "df.loc[original_target_index,\"title\"]"
   ]
  },
  {
   "cell_type": "code",
   "execution_count": 75,
   "metadata": {},
   "outputs": [
    {
     "data": {
      "text/plain": [
       "'Thick in cherry-vanilla  big oak and tannin  this vineyard-designate contains handfuls of Petite Sirah and mixed blacks that are  as the producer puts it  too long to list. Given 10 months in American oak  it offers a balance of fruit and leathery power  from raspberry and blackberry to Sunday morning bacon. Drink now through 2020.'"
      ]
     },
     "execution_count": 75,
     "metadata": {},
     "output_type": "execute_result"
    }
   ],
   "source": [
    "df_new.loc[original_target_index,\"description\"]"
   ]
  },
  {
   "cell_type": "code",
   "execution_count": 76,
   "metadata": {},
   "outputs": [
    {
     "data": {
      "text/plain": [
       "title          John's Blend 2003 Individual Selection Caberne...\n",
       "variety                                       Cabernet_Sauvignon\n",
       "country                                                Australia\n",
       "description    From veteran winemaker John Glaetzer  this Cab...\n",
       "lines          johns blend 2003 individual selection cabernet...\n",
       "Name: 35341, dtype: object"
      ]
     },
     "execution_count": 76,
     "metadata": {},
     "output_type": "execute_result"
    }
   ],
   "source": [
    "df_new.iloc[index_Euc]"
   ]
  },
  {
   "cell_type": "code",
   "execution_count": 77,
   "metadata": {},
   "outputs": [
    {
     "data": {
      "text/plain": [
       "35341"
      ]
     },
     "execution_count": 77,
     "metadata": {},
     "output_type": "execute_result"
    }
   ],
   "source": [
    "#get the original index\n",
    "original_Euc_index = df_new.index.values[index_Euc]\n",
    "original_Euc_index"
   ]
  },
  {
   "cell_type": "code",
   "execution_count": 78,
   "metadata": {},
   "outputs": [
    {
     "data": {
      "text/plain": [
       "Unnamed: 0                                                           35341\n",
       "country                                                          Australia\n",
       "description              From veteran winemaker John Glaetzer, this Cab...\n",
       "designation                                           Individual Selection\n",
       "points                                                                  93\n",
       "price                                                                   50\n",
       "province                                                   South Australia\n",
       "region_1                                                   Langhorne Creek\n",
       "region_2                                                               NaN\n",
       "taster_name                                                 Joe Czerwinski\n",
       "taster_twitter_handle                                               @JoeCz\n",
       "title                    John's Blend 2003 Individual Selection Caberne...\n",
       "variety                                                 Cabernet Sauvignon\n",
       "winery                                                        John's Blend\n",
       "Name: 35341, dtype: object"
      ]
     },
     "execution_count": 78,
     "metadata": {},
     "output_type": "execute_result"
    }
   ],
   "source": [
    "df.loc[original_Euc_index]"
   ]
  },
  {
   "cell_type": "code",
   "execution_count": 79,
   "metadata": {},
   "outputs": [
    {
     "data": {
      "text/plain": [
       "\"From veteran winemaker John Glaetzer  this Cabernet from Langhorne Creek is something of a throwback  spending some 28 months in American oak hogsheads. Yet there's clearly enough cherry and cassis fruit to support all of the vanilla and toasted coconut  and the wine finishes long and balanced. Drink 2010–2020.\""
      ]
     },
     "execution_count": 79,
     "metadata": {},
     "output_type": "execute_result"
    }
   ],
   "source": [
    "df_new.loc[original_Euc_index,\"description\"]"
   ]
  },
  {
   "cell_type": "code",
   "execution_count": 80,
   "metadata": {},
   "outputs": [
    {
     "data": {
      "text/plain": [
       "title          Stonestreet 2006 Christopher's Cabernet Sauvig...\n",
       "variety                                       Cabernet_Sauvignon\n",
       "country                                                       US\n",
       "description    Hard mountain tannins characterize this Cab  w...\n",
       "lines          stonestreet 2006 christophers cabernet sauvign...\n",
       "Name: 55725, dtype: object"
      ]
     },
     "execution_count": 80,
     "metadata": {},
     "output_type": "execute_result"
    }
   ],
   "source": [
    "df_new.iloc[index_Cos]"
   ]
  },
  {
   "cell_type": "code",
   "execution_count": 81,
   "metadata": {},
   "outputs": [
    {
     "data": {
      "text/plain": [
       "55725"
      ]
     },
     "execution_count": 81,
     "metadata": {},
     "output_type": "execute_result"
    }
   ],
   "source": [
    "#get the original index\n",
    "original_Cos_index = df_new.index.values[index_Cos]\n",
    "original_Cos_index"
   ]
  },
  {
   "cell_type": "code",
   "execution_count": 82,
   "metadata": {},
   "outputs": [
    {
     "data": {
      "text/plain": [
       "Unnamed: 0                                                           55725\n",
       "country                                                                 US\n",
       "description              Hard mountain tannins characterize this Cab, w...\n",
       "designation                                                  Christopher's\n",
       "points                                                                  96\n",
       "price                                                                  100\n",
       "province                                                        California\n",
       "region_1                                                  Alexander Valley\n",
       "region_2                                                            Sonoma\n",
       "taster_name                                                            NaN\n",
       "taster_twitter_handle                                                  NaN\n",
       "title                    Stonestreet 2006 Christopher's Cabernet Sauvig...\n",
       "variety                                                 Cabernet Sauvignon\n",
       "winery                                                         Stonestreet\n",
       "Name: 55725, dtype: object"
      ]
     },
     "execution_count": 82,
     "metadata": {},
     "output_type": "execute_result"
    }
   ],
   "source": [
    "df.loc[original_Cos_index]"
   ]
  },
  {
   "cell_type": "code",
   "execution_count": 83,
   "metadata": {},
   "outputs": [
    {
     "data": {
      "text/plain": [
       "\"Hard mountain tannins characterize this Cab  which was grown above 2 000 feet in the Mayacamas. It's hugely deep in blackberries and black currants  with notes of dark chocolate and violets. Meanwhile  100% new French oak adds an elaborate layer of smoky caramel and char that's entirely in keeping with the wine's volume. Impressive and flashy  but immature  this wine requires cellaring. Best 2012–2018.\""
      ]
     },
     "execution_count": 83,
     "metadata": {},
     "output_type": "execute_result"
    }
   ],
   "source": [
    "df_new.loc[original_Cos_index,\"description\"]"
   ]
  },
  {
   "cell_type": "code",
   "execution_count": 84,
   "metadata": {},
   "outputs": [
    {
     "data": {
      "text/plain": [
       "20"
      ]
     },
     "execution_count": 84,
     "metadata": {},
     "output_type": "execute_result"
    }
   ],
   "source": [
    "#check how many tasters there are\n",
    "len(df[\"taster_name\"].unique())"
   ]
  },
  {
   "cell_type": "code",
   "execution_count": 85,
   "metadata": {},
   "outputs": [
    {
     "name": "stdout",
     "output_type": "stream",
     "text": [
      "[ 53956  96001 100304  48296  37816]\n"
     ]
    }
   ],
   "source": [
    "#check the most similar 5 wines based on cosine distance\n",
    "index_Cos = Cos_distance.argsort()[1:6]\n",
    "print(index_Cos)"
   ]
  },
  {
   "cell_type": "code",
   "execution_count": 86,
   "metadata": {},
   "outputs": [
    {
     "data": {
      "text/plain": [
       "array([ 55725, 102208, 107041,  49707,  38682], dtype=int64)"
      ]
     },
     "execution_count": 86,
     "metadata": {},
     "output_type": "execute_result"
    }
   ],
   "source": [
    "#get the original index\n",
    "original_Cos_index = df_new.index.values[index_Cos]\n",
    "original_Cos_index"
   ]
  },
  {
   "cell_type": "code",
   "execution_count": 87,
   "metadata": {},
   "outputs": [],
   "source": [
    "similar_titles = df.loc[original_Cos_index,\"title\"]"
   ]
  },
  {
   "cell_type": "code",
   "execution_count": 88,
   "metadata": {},
   "outputs": [
    {
     "name": "stdout",
     "output_type": "stream",
     "text": [
      "Stonestreet 2006 Christopher's Cabernet Sauvignon (Alexander Valley)\n",
      "Aquinas 2014 Cabernet Sauvignon (Napa County-Sonoma County-Lake County)\n",
      "Cakebread 2012 Benchland Select Cabernet Sauvignon (Napa Valley)\n",
      "Kenwood 2010 Artist Series Cabernet Sauvignon (Sonoma County)\n",
      "Elyse 2012 Korte Ranch Vineyard Zinfandel (St. Helena)\n"
     ]
    }
   ],
   "source": [
    "for t in similar_titles:   \n",
    "    print(t)"
   ]
  },
  {
   "cell_type": "code",
   "execution_count": null,
   "metadata": {},
   "outputs": [],
   "source": []
  }
 ],
 "metadata": {
  "kernelspec": {
   "display_name": "Python 3",
   "language": "python",
   "name": "python3"
  },
  "language_info": {
   "codemirror_mode": {
    "name": "ipython",
    "version": 3
   },
   "file_extension": ".py",
   "mimetype": "text/x-python",
   "name": "python",
   "nbconvert_exporter": "python",
   "pygments_lexer": "ipython3",
   "version": "3.6.5"
  }
 },
 "nbformat": 4,
 "nbformat_minor": 2
}
